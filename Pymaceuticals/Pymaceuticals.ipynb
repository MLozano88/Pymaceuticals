{
 "cells": [
  {
   "cell_type": "markdown",
   "metadata": {},
   "source": [
    "## Observations and Insights "
   ]
  },
  {
   "cell_type": "markdown",
   "metadata": {},
   "source": []
  },
  {
   "cell_type": "code",
   "execution_count": 1,
   "metadata": {},
   "outputs": [
    {
     "data": {
      "text/html": [
       "<div>\n",
       "<style scoped>\n",
       "    .dataframe tbody tr th:only-of-type {\n",
       "        vertical-align: middle;\n",
       "    }\n",
       "\n",
       "    .dataframe tbody tr th {\n",
       "        vertical-align: top;\n",
       "    }\n",
       "\n",
       "    .dataframe thead th {\n",
       "        text-align: right;\n",
       "    }\n",
       "</style>\n",
       "<table border=\"1\" class=\"dataframe\">\n",
       "  <thead>\n",
       "    <tr style=\"text-align: right;\">\n",
       "      <th></th>\n",
       "      <th>Mouse_ID</th>\n",
       "      <th>Drug_Regimen</th>\n",
       "      <th>Sex</th>\n",
       "      <th>Age_months</th>\n",
       "      <th>Weight_(g)</th>\n",
       "      <th>Timepoint</th>\n",
       "      <th>Tumor_Volume_(mm3)</th>\n",
       "      <th>Metastatic_Sites</th>\n",
       "    </tr>\n",
       "  </thead>\n",
       "  <tbody>\n",
       "    <tr>\n",
       "      <th>0</th>\n",
       "      <td>k403</td>\n",
       "      <td>Ramicane</td>\n",
       "      <td>Male</td>\n",
       "      <td>21.0</td>\n",
       "      <td>16.0</td>\n",
       "      <td>0</td>\n",
       "      <td>45.0000</td>\n",
       "      <td>0</td>\n",
       "    </tr>\n",
       "    <tr>\n",
       "      <th>1</th>\n",
       "      <td>k403</td>\n",
       "      <td>Ramicane</td>\n",
       "      <td>Male</td>\n",
       "      <td>21.0</td>\n",
       "      <td>16.0</td>\n",
       "      <td>5</td>\n",
       "      <td>38.8259</td>\n",
       "      <td>0</td>\n",
       "    </tr>\n",
       "    <tr>\n",
       "      <th>2</th>\n",
       "      <td>k403</td>\n",
       "      <td>Ramicane</td>\n",
       "      <td>Male</td>\n",
       "      <td>21.0</td>\n",
       "      <td>16.0</td>\n",
       "      <td>10</td>\n",
       "      <td>35.0143</td>\n",
       "      <td>1</td>\n",
       "    </tr>\n",
       "    <tr>\n",
       "      <th>3</th>\n",
       "      <td>k403</td>\n",
       "      <td>Ramicane</td>\n",
       "      <td>Male</td>\n",
       "      <td>21.0</td>\n",
       "      <td>16.0</td>\n",
       "      <td>15</td>\n",
       "      <td>34.2240</td>\n",
       "      <td>1</td>\n",
       "    </tr>\n",
       "    <tr>\n",
       "      <th>4</th>\n",
       "      <td>k403</td>\n",
       "      <td>Ramicane</td>\n",
       "      <td>Male</td>\n",
       "      <td>21.0</td>\n",
       "      <td>16.0</td>\n",
       "      <td>20</td>\n",
       "      <td>32.9977</td>\n",
       "      <td>1</td>\n",
       "    </tr>\n",
       "    <tr>\n",
       "      <th>...</th>\n",
       "      <td>...</td>\n",
       "      <td>...</td>\n",
       "      <td>...</td>\n",
       "      <td>...</td>\n",
       "      <td>...</td>\n",
       "      <td>...</td>\n",
       "      <td>...</td>\n",
       "      <td>...</td>\n",
       "    </tr>\n",
       "    <tr>\n",
       "      <th>1888</th>\n",
       "      <td>z969</td>\n",
       "      <td>Naftisol</td>\n",
       "      <td>Male</td>\n",
       "      <td>9.0</td>\n",
       "      <td>30.0</td>\n",
       "      <td>25</td>\n",
       "      <td>63.1457</td>\n",
       "      <td>2</td>\n",
       "    </tr>\n",
       "    <tr>\n",
       "      <th>1889</th>\n",
       "      <td>z969</td>\n",
       "      <td>Naftisol</td>\n",
       "      <td>Male</td>\n",
       "      <td>9.0</td>\n",
       "      <td>30.0</td>\n",
       "      <td>30</td>\n",
       "      <td>65.8410</td>\n",
       "      <td>3</td>\n",
       "    </tr>\n",
       "    <tr>\n",
       "      <th>1890</th>\n",
       "      <td>z969</td>\n",
       "      <td>Naftisol</td>\n",
       "      <td>Male</td>\n",
       "      <td>9.0</td>\n",
       "      <td>30.0</td>\n",
       "      <td>35</td>\n",
       "      <td>69.1762</td>\n",
       "      <td>4</td>\n",
       "    </tr>\n",
       "    <tr>\n",
       "      <th>1891</th>\n",
       "      <td>z969</td>\n",
       "      <td>Naftisol</td>\n",
       "      <td>Male</td>\n",
       "      <td>9.0</td>\n",
       "      <td>30.0</td>\n",
       "      <td>40</td>\n",
       "      <td>70.3149</td>\n",
       "      <td>4</td>\n",
       "    </tr>\n",
       "    <tr>\n",
       "      <th>1892</th>\n",
       "      <td>z969</td>\n",
       "      <td>Naftisol</td>\n",
       "      <td>Male</td>\n",
       "      <td>9.0</td>\n",
       "      <td>30.0</td>\n",
       "      <td>45</td>\n",
       "      <td>73.8678</td>\n",
       "      <td>4</td>\n",
       "    </tr>\n",
       "  </tbody>\n",
       "</table>\n",
       "<p>1893 rows × 8 columns</p>\n",
       "</div>"
      ],
      "text/plain": [
       "     Mouse_ID Drug_Regimen   Sex  Age_months  Weight_(g)  Timepoint  \\\n",
       "0        k403     Ramicane  Male        21.0        16.0          0   \n",
       "1        k403     Ramicane  Male        21.0        16.0          5   \n",
       "2        k403     Ramicane  Male        21.0        16.0         10   \n",
       "3        k403     Ramicane  Male        21.0        16.0         15   \n",
       "4        k403     Ramicane  Male        21.0        16.0         20   \n",
       "...       ...          ...   ...         ...         ...        ...   \n",
       "1888     z969     Naftisol  Male         9.0        30.0         25   \n",
       "1889     z969     Naftisol  Male         9.0        30.0         30   \n",
       "1890     z969     Naftisol  Male         9.0        30.0         35   \n",
       "1891     z969     Naftisol  Male         9.0        30.0         40   \n",
       "1892     z969     Naftisol  Male         9.0        30.0         45   \n",
       "\n",
       "      Tumor_Volume_(mm3)  Metastatic_Sites  \n",
       "0                45.0000                 0  \n",
       "1                38.8259                 0  \n",
       "2                35.0143                 1  \n",
       "3                34.2240                 1  \n",
       "4                32.9977                 1  \n",
       "...                  ...               ...  \n",
       "1888             63.1457                 2  \n",
       "1889             65.8410                 3  \n",
       "1890             69.1762                 4  \n",
       "1891             70.3149                 4  \n",
       "1892             73.8678                 4  \n",
       "\n",
       "[1893 rows x 8 columns]"
      ]
     },
     "execution_count": 1,
     "metadata": {},
     "output_type": "execute_result"
    }
   ],
   "source": [
    "# Dependencies and Setup\n",
    "import matplotlib.pyplot as plt\n",
    "import pandas as pd\n",
    "import scipy.stats as st\n",
    "import numpy as np\n",
    "\n",
    "# Study data files\n",
    "mouse_metadata_path = \"data/Mouse_metadata.csv\"\n",
    "study_results_path = \"data/Study_results.csv\"\n",
    "\n",
    "# Read the mouse data and the study results\n",
    "mouse_metadata = pd.read_csv(mouse_metadata_path)\n",
    "study_results = pd.read_csv(study_results_path)\n",
    "\n",
    "# Combine the data into a single dataset\n",
    "cleanest_df = mouse_metadata.merge(study_results,how='outer',on='Mouse_ID')\n",
    "# Display the data table for preview\n",
    "cleanest_df"
   ]
  },
  {
   "cell_type": "code",
   "execution_count": 5,
   "metadata": {},
   "outputs": [
    {
     "data": {
      "text/plain": [
       "g989    13\n",
       "c302    10\n",
       "g497    10\n",
       "c559    10\n",
       "p189    10\n",
       "        ..\n",
       "v199     1\n",
       "x226     1\n",
       "u153     1\n",
       "n482     1\n",
       "h428     1\n",
       "Name: Mouse_ID, Length: 249, dtype: int64"
      ]
     },
     "execution_count": 5,
     "metadata": {},
     "output_type": "execute_result"
    }
   ],
   "source": [
    "# Checking the number of mice.\n",
    "cleanest_df[\"Mouse_ID\"].value_counts()"
   ]
  },
  {
   "cell_type": "code",
   "execution_count": 7,
   "metadata": {},
   "outputs": [],
   "source": [
    "# Getting the duplicate mice by ID number that shows up for Mouse ID and Timepoint. \n",
    "duplicated = cleanest_df.groupby(['Mouse_ID','Timepoint']).count().duplicated(keep=False)\n"
   ]
  },
  {
   "cell_type": "code",
   "execution_count": 3,
   "metadata": {},
   "outputs": [],
   "source": [
    "# Optional: Get all the data for the duplicate mouse ID. "
   ]
  },
  {
   "cell_type": "code",
   "execution_count": null,
   "metadata": {},
   "outputs": [],
   "source": [
    "# Create a clean DataFrame by dropping the duplicate mouse by its ID."
   ]
  },
  {
   "cell_type": "code",
   "execution_count": 8,
   "metadata": {},
   "outputs": [
    {
     "data": {
      "text/plain": [
       "1893"
      ]
     },
     "execution_count": 8,
     "metadata": {},
     "output_type": "execute_result"
    }
   ],
   "source": [
    "# Checking the number of mice in the clean DataFrame.\n",
    "cleanest_df[\"Mouse_ID\"].count()"
   ]
  },
  {
   "cell_type": "markdown",
   "metadata": {},
   "source": [
    "## Summary Statistics"
   ]
  },
  {
   "cell_type": "code",
   "execution_count": 11,
   "metadata": {},
   "outputs": [
    {
     "data": {
      "text/html": [
       "<div>\n",
       "<style scoped>\n",
       "    .dataframe tbody tr th:only-of-type {\n",
       "        vertical-align: middle;\n",
       "    }\n",
       "\n",
       "    .dataframe tbody tr th {\n",
       "        vertical-align: top;\n",
       "    }\n",
       "\n",
       "    .dataframe thead th {\n",
       "        text-align: right;\n",
       "    }\n",
       "</style>\n",
       "<table border=\"1\" class=\"dataframe\">\n",
       "  <thead>\n",
       "    <tr style=\"text-align: right;\">\n",
       "      <th></th>\n",
       "      <th>Mean</th>\n",
       "      <th>Median</th>\n",
       "      <th>Var</th>\n",
       "      <th>Std</th>\n",
       "      <th>SEM</th>\n",
       "    </tr>\n",
       "    <tr>\n",
       "      <th>Drug_Regimen</th>\n",
       "      <th></th>\n",
       "      <th></th>\n",
       "      <th></th>\n",
       "      <th></th>\n",
       "      <th></th>\n",
       "    </tr>\n",
       "  </thead>\n",
       "  <tbody>\n",
       "    <tr>\n",
       "      <th>Capomulin</th>\n",
       "      <td>40.675738</td>\n",
       "      <td>41.55780</td>\n",
       "      <td>24.947786</td>\n",
       "      <td>4.994776</td>\n",
       "      <td>0.329346</td>\n",
       "    </tr>\n",
       "    <tr>\n",
       "      <th>Ceftamin</th>\n",
       "      <td>52.591173</td>\n",
       "      <td>51.77620</td>\n",
       "      <td>39.290138</td>\n",
       "      <td>6.268185</td>\n",
       "      <td>0.469820</td>\n",
       "    </tr>\n",
       "    <tr>\n",
       "      <th>Infubinol</th>\n",
       "      <td>52.884794</td>\n",
       "      <td>51.82055</td>\n",
       "      <td>43.128680</td>\n",
       "      <td>6.567243</td>\n",
       "      <td>0.492236</td>\n",
       "    </tr>\n",
       "    <tr>\n",
       "      <th>Ketapril</th>\n",
       "      <td>55.235639</td>\n",
       "      <td>53.69870</td>\n",
       "      <td>68.553505</td>\n",
       "      <td>8.279704</td>\n",
       "      <td>0.603860</td>\n",
       "    </tr>\n",
       "    <tr>\n",
       "      <th>Naftisol</th>\n",
       "      <td>54.331568</td>\n",
       "      <td>52.50930</td>\n",
       "      <td>66.173455</td>\n",
       "      <td>8.134707</td>\n",
       "      <td>0.596466</td>\n",
       "    </tr>\n",
       "    <tr>\n",
       "      <th>Placebo</th>\n",
       "      <td>54.033582</td>\n",
       "      <td>52.28890</td>\n",
       "      <td>61.168110</td>\n",
       "      <td>7.821004</td>\n",
       "      <td>0.581331</td>\n",
       "    </tr>\n",
       "    <tr>\n",
       "      <th>Propriva</th>\n",
       "      <td>52.322551</td>\n",
       "      <td>50.85460</td>\n",
       "      <td>42.351080</td>\n",
       "      <td>6.507771</td>\n",
       "      <td>0.512884</td>\n",
       "    </tr>\n",
       "    <tr>\n",
       "      <th>Ramicane</th>\n",
       "      <td>40.216746</td>\n",
       "      <td>40.67320</td>\n",
       "      <td>23.486707</td>\n",
       "      <td>4.846309</td>\n",
       "      <td>0.320955</td>\n",
       "    </tr>\n",
       "    <tr>\n",
       "      <th>Stelasyn</th>\n",
       "      <td>54.233148</td>\n",
       "      <td>52.43170</td>\n",
       "      <td>59.450540</td>\n",
       "      <td>7.710418</td>\n",
       "      <td>0.573111</td>\n",
       "    </tr>\n",
       "    <tr>\n",
       "      <th>Zoniferol</th>\n",
       "      <td>53.236507</td>\n",
       "      <td>51.81845</td>\n",
       "      <td>48.533338</td>\n",
       "      <td>6.966587</td>\n",
       "      <td>0.516398</td>\n",
       "    </tr>\n",
       "  </tbody>\n",
       "</table>\n",
       "</div>"
      ],
      "text/plain": [
       "                   Mean    Median        Var       Std       SEM\n",
       "Drug_Regimen                                                    \n",
       "Capomulin     40.675738  41.55780  24.947786  4.994776  0.329346\n",
       "Ceftamin      52.591173  51.77620  39.290138  6.268185  0.469820\n",
       "Infubinol     52.884794  51.82055  43.128680  6.567243  0.492236\n",
       "Ketapril      55.235639  53.69870  68.553505  8.279704  0.603860\n",
       "Naftisol      54.331568  52.50930  66.173455  8.134707  0.596466\n",
       "Placebo       54.033582  52.28890  61.168110  7.821004  0.581331\n",
       "Propriva      52.322551  50.85460  42.351080  6.507771  0.512884\n",
       "Ramicane      40.216746  40.67320  23.486707  4.846309  0.320955\n",
       "Stelasyn      54.233148  52.43170  59.450540  7.710418  0.573111\n",
       "Zoniferol     53.236507  51.81845  48.533338  6.966587  0.516398"
      ]
     },
     "execution_count": 11,
     "metadata": {},
     "output_type": "execute_result"
    }
   ],
   "source": [
    "# Generate a summary statistics table of mean, median, variance, standard deviation, and SEM of the tumor volume for each regimen\n",
    "# Use groupby and summary statistical methods to calculate the following properties of each drug regimen: \n",
    "# mean, median, variance, standard deviation, and SEM of the tumor volume. \n",
    "grouped_df = cleanest_df.groupby(['Drug_Regimen'])\n",
    "\n",
    "tumor_mean = grouped_df['Tumor_Volume_(mm3)'].mean()\n",
    "tumor_median = grouped_df['Tumor_Volume_(mm3)'].median()\n",
    "tumor_var = grouped_df['Tumor_Volume_(mm3)'].var()\n",
    "tumor_std = grouped_df['Tumor_Volume_(mm3)'].std()\n",
    "tumor_sem = grouped_df['Tumor_Volume_(mm3)'].sem()\n",
    "\n",
    "# Assemble the resulting series into a single summary dataframe.\n",
    "summary_stats = pd.DataFrame({'Mean': tumor_mean, 'Median':tumor_median, 'Var':tumor_var, 'Std':tumor_std, 'SEM': tumor_sem})\n",
    "summary_stats\n"
   ]
  },
  {
   "cell_type": "code",
   "execution_count": 12,
   "metadata": {},
   "outputs": [
    {
     "data": {
      "text/html": [
       "<div>\n",
       "<style scoped>\n",
       "    .dataframe tbody tr th:only-of-type {\n",
       "        vertical-align: middle;\n",
       "    }\n",
       "\n",
       "    .dataframe tbody tr th {\n",
       "        vertical-align: top;\n",
       "    }\n",
       "\n",
       "    .dataframe thead th {\n",
       "        text-align: right;\n",
       "    }\n",
       "</style>\n",
       "<table border=\"1\" class=\"dataframe\">\n",
       "  <thead>\n",
       "    <tr style=\"text-align: right;\">\n",
       "      <th></th>\n",
       "      <th>mean</th>\n",
       "      <th>median</th>\n",
       "      <th>var</th>\n",
       "      <th>std</th>\n",
       "      <th>sem</th>\n",
       "    </tr>\n",
       "    <tr>\n",
       "      <th>Drug_Regimen</th>\n",
       "      <th></th>\n",
       "      <th></th>\n",
       "      <th></th>\n",
       "      <th></th>\n",
       "      <th></th>\n",
       "    </tr>\n",
       "  </thead>\n",
       "  <tbody>\n",
       "    <tr>\n",
       "      <th>Capomulin</th>\n",
       "      <td>40.675738</td>\n",
       "      <td>41.55780</td>\n",
       "      <td>24.947786</td>\n",
       "      <td>4.994776</td>\n",
       "      <td>0.329346</td>\n",
       "    </tr>\n",
       "    <tr>\n",
       "      <th>Ceftamin</th>\n",
       "      <td>52.591173</td>\n",
       "      <td>51.77620</td>\n",
       "      <td>39.290138</td>\n",
       "      <td>6.268185</td>\n",
       "      <td>0.469820</td>\n",
       "    </tr>\n",
       "    <tr>\n",
       "      <th>Infubinol</th>\n",
       "      <td>52.884794</td>\n",
       "      <td>51.82055</td>\n",
       "      <td>43.128680</td>\n",
       "      <td>6.567243</td>\n",
       "      <td>0.492236</td>\n",
       "    </tr>\n",
       "    <tr>\n",
       "      <th>Ketapril</th>\n",
       "      <td>55.235639</td>\n",
       "      <td>53.69870</td>\n",
       "      <td>68.553505</td>\n",
       "      <td>8.279704</td>\n",
       "      <td>0.603860</td>\n",
       "    </tr>\n",
       "    <tr>\n",
       "      <th>Naftisol</th>\n",
       "      <td>54.331568</td>\n",
       "      <td>52.50930</td>\n",
       "      <td>66.173455</td>\n",
       "      <td>8.134707</td>\n",
       "      <td>0.596466</td>\n",
       "    </tr>\n",
       "    <tr>\n",
       "      <th>Placebo</th>\n",
       "      <td>54.033582</td>\n",
       "      <td>52.28890</td>\n",
       "      <td>61.168110</td>\n",
       "      <td>7.821004</td>\n",
       "      <td>0.581331</td>\n",
       "    </tr>\n",
       "    <tr>\n",
       "      <th>Propriva</th>\n",
       "      <td>52.322551</td>\n",
       "      <td>50.85460</td>\n",
       "      <td>42.351080</td>\n",
       "      <td>6.507771</td>\n",
       "      <td>0.512884</td>\n",
       "    </tr>\n",
       "    <tr>\n",
       "      <th>Ramicane</th>\n",
       "      <td>40.216746</td>\n",
       "      <td>40.67320</td>\n",
       "      <td>23.486707</td>\n",
       "      <td>4.846309</td>\n",
       "      <td>0.320955</td>\n",
       "    </tr>\n",
       "    <tr>\n",
       "      <th>Stelasyn</th>\n",
       "      <td>54.233148</td>\n",
       "      <td>52.43170</td>\n",
       "      <td>59.450540</td>\n",
       "      <td>7.710418</td>\n",
       "      <td>0.573111</td>\n",
       "    </tr>\n",
       "    <tr>\n",
       "      <th>Zoniferol</th>\n",
       "      <td>53.236507</td>\n",
       "      <td>51.81845</td>\n",
       "      <td>48.533338</td>\n",
       "      <td>6.966587</td>\n",
       "      <td>0.516398</td>\n",
       "    </tr>\n",
       "  </tbody>\n",
       "</table>\n",
       "</div>"
      ],
      "text/plain": [
       "                   mean    median        var       std       sem\n",
       "Drug_Regimen                                                    \n",
       "Capomulin     40.675738  41.55780  24.947786  4.994776  0.329346\n",
       "Ceftamin      52.591173  51.77620  39.290138  6.268185  0.469820\n",
       "Infubinol     52.884794  51.82055  43.128680  6.567243  0.492236\n",
       "Ketapril      55.235639  53.69870  68.553505  8.279704  0.603860\n",
       "Naftisol      54.331568  52.50930  66.173455  8.134707  0.596466\n",
       "Placebo       54.033582  52.28890  61.168110  7.821004  0.581331\n",
       "Propriva      52.322551  50.85460  42.351080  6.507771  0.512884\n",
       "Ramicane      40.216746  40.67320  23.486707  4.846309  0.320955\n",
       "Stelasyn      54.233148  52.43170  59.450540  7.710418  0.573111\n",
       "Zoniferol     53.236507  51.81845  48.533338  6.966587  0.516398"
      ]
     },
     "execution_count": 12,
     "metadata": {},
     "output_type": "execute_result"
    }
   ],
   "source": [
    "# Generate a summary statistics table of mean, median, variance, standard deviation, and SEM of the tumor volume for each regimen\n",
    "\n",
    "# Using the aggregation method, produce the same summary statistics in a single line\n",
    "summ_stats_df = grouped_df['Tumor_Volume_(mm3)'].agg([np.mean, np.median, np.var, np.std, st.sem])\n",
    "summ_stats_df"
   ]
  },
  {
   "cell_type": "markdown",
   "metadata": {},
   "source": [
    "## Bar and Pie Charts"
   ]
  },
  {
   "cell_type": "code",
   "execution_count": 13,
   "metadata": {},
   "outputs": [
    {
     "data": {
      "text/plain": [
       "<function matplotlib.pyplot.show(*args, **kw)>"
      ]
     },
     "execution_count": 13,
     "metadata": {},
     "output_type": "execute_result"
    },
    {
     "data": {
      "image/png": "[encoded data removed]",
      "text/plain": [
       "<Figure size 432x288 with 1 Axes>"
      ]
     },
     "metadata": {
      "needs_background": "light"
     },
     "output_type": "display_data"
    }
   ],
   "source": [
    "# Generate a bar plot showing the total number of measurements taken on each drug regimen using pandas.\n",
    "count_chart = cleanest_df['Drug_Regimen'].value_counts().plot.bar(width = 0.7)\n",
    "\n",
    "count_chart.set_xlabel('Drug Regimen')\n",
    "count_chart.set_ylabel('Total Measurements')\n",
    "\n",
    "count_chart.set_title('Total Measurements per Drug Regimen')\n",
    "\n",
    "plt.show\n"
   ]
  },
  {
   "cell_type": "code",
   "execution_count": 14,
   "metadata": {},
   "outputs": [
    {
     "data": {
      "image/png": "[encoded data removed]",
      "text/plain": [
       "<Figure size 432x288 with 1 Axes>"
      ]
     },
     "metadata": {
      "needs_background": "light"
     },
     "output_type": "display_data"
    }
   ],
   "source": [
    "# Generate a bar plot showing the total number of measurements taken on each drug regimen using pyplot.\n",
    "drug = cleanest_df['Drug_Regimen'].value_counts()\n",
    "x_axis = np.arange(len(drug))\n",
    "\n",
    "plt.bar(x_axis, drug, width = 0.7)\n",
    "\n",
    "tick_locations = [value for value in x_axis]\n",
    "plt.xticks(tick_locations, drug.index.values)\n",
    "plt.xticks(rotation=90)\n",
    "\n",
    "plt.xlabel('Drug Regimen')\n",
    "plt.ylabel('Total Measurements')\n",
    "plt.title('Total Measurements per Drug Regimen')\n",
    "\n",
    "plt.show()"
   ]
  },
  {
   "cell_type": "code",
   "execution_count": 15,
   "metadata": {},
   "outputs": [
    {
     "data": {
      "text/plain": [
       "<matplotlib.axes._subplots.AxesSubplot at 0x1b665181b80>"
      ]
     },
     "execution_count": 15,
     "metadata": {},
     "output_type": "execute_result"
    },
    {
     "data": {
      "image/png": "[encoded data removed]",
      "text/plain": [
       "<Figure size 432x288 with 1 Axes>"
      ]
     },
     "metadata": {},
     "output_type": "display_data"
    }
   ],
   "source": [
    "# Generate a pie plot showing the distribution of female versus male mice using pandas\n",
    "gender_dis = cleanest_df['Sex'].value_counts()\n",
    "gender_pie = gender_dis.plot.pie(title='Gender Distribution',autopct=\"%1.1f%%\")\n",
    "gender_pie.set_ylabel('')\n",
    "gender_pie"
   ]
  },
  {
   "cell_type": "code",
   "execution_count": 16,
   "metadata": {},
   "outputs": [
    {
     "data": {
      "text/plain": [
       "Text(0.5, 1.0, 'Gender Distribution')"
      ]
     },
     "execution_count": 16,
     "metadata": {},
     "output_type": "execute_result"
    },
    {
     "data": {
      "image/png": "[encoded data removed]",
      "text/plain": [
       "<Figure size 432x288 with 1 Axes>"
      ]
     },
     "metadata": {},
     "output_type": "display_data"
    }
   ],
   "source": [
    "# Generate a pie plot showing the distribution of female versus male mice using pyplot\n",
    "gender_dis2 = cleanest_df['Sex'].value_counts()\n",
    "\n",
    "labels = ['Male', 'Female']\n",
    "\n",
    "plt.pie(gender_dis2, labels=labels,autopct=\"%1.1f%%\",startangle=0)\n",
    "plt.title('Gender Distribution')\n"
   ]
  },
  {
   "cell_type": "markdown",
   "metadata": {},
   "source": [
    "## Quartiles, Outliers and Boxplots"
   ]
  },
  {
   "cell_type": "code",
   "execution_count": 18,
   "metadata": {
    "scrolled": true
   },
   "outputs": [
    {
     "data": {
      "text/html": [
       "<div>\n",
       "<style scoped>\n",
       "    .dataframe tbody tr th:only-of-type {\n",
       "        vertical-align: middle;\n",
       "    }\n",
       "\n",
       "    .dataframe tbody tr th {\n",
       "        vertical-align: top;\n",
       "    }\n",
       "\n",
       "    .dataframe thead th {\n",
       "        text-align: right;\n",
       "    }\n",
       "</style>\n",
       "<table border=\"1\" class=\"dataframe\">\n",
       "  <thead>\n",
       "    <tr style=\"text-align: right;\">\n",
       "      <th></th>\n",
       "      <th>Mouse_ID</th>\n",
       "      <th>Drug_Regimen</th>\n",
       "      <th>Sex</th>\n",
       "      <th>Age_months</th>\n",
       "      <th>Weight_(g)</th>\n",
       "      <th>Timepoint</th>\n",
       "      <th>Tumor_Volume_(mm3)</th>\n",
       "      <th>Metastatic_Sites</th>\n",
       "      <th>Max_TP</th>\n",
       "    </tr>\n",
       "  </thead>\n",
       "  <tbody>\n",
       "    <tr>\n",
       "      <th>1205</th>\n",
       "      <td>m756</td>\n",
       "      <td>Infubinol</td>\n",
       "      <td>Male</td>\n",
       "      <td>19.0</td>\n",
       "      <td>30.0</td>\n",
       "      <td>5</td>\n",
       "      <td>47.0104</td>\n",
       "      <td>1</td>\n",
       "      <td>5</td>\n",
       "    </tr>\n",
       "    <tr>\n",
       "      <th>1095</th>\n",
       "      <td>k894</td>\n",
       "      <td>Zoniferol</td>\n",
       "      <td>Female</td>\n",
       "      <td>13.0</td>\n",
       "      <td>29.0</td>\n",
       "      <td>40</td>\n",
       "      <td>58.6471</td>\n",
       "      <td>4</td>\n",
       "      <td>45</td>\n",
       "    </tr>\n",
       "    <tr>\n",
       "      <th>156</th>\n",
       "      <td>t565</td>\n",
       "      <td>Capomulin</td>\n",
       "      <td>Female</td>\n",
       "      <td>20.0</td>\n",
       "      <td>17.0</td>\n",
       "      <td>5</td>\n",
       "      <td>45.8956</td>\n",
       "      <td>0</td>\n",
       "      <td>45</td>\n",
       "    </tr>\n",
       "    <tr>\n",
       "      <th>661</th>\n",
       "      <td>c302</td>\n",
       "      <td>Zoniferol</td>\n",
       "      <td>Female</td>\n",
       "      <td>10.0</td>\n",
       "      <td>29.0</td>\n",
       "      <td>15</td>\n",
       "      <td>52.7166</td>\n",
       "      <td>2</td>\n",
       "      <td>45</td>\n",
       "    </tr>\n",
       "    <tr>\n",
       "      <th>1217</th>\n",
       "      <td>n630</td>\n",
       "      <td>Propriva</td>\n",
       "      <td>Female</td>\n",
       "      <td>15.0</td>\n",
       "      <td>29.0</td>\n",
       "      <td>0</td>\n",
       "      <td>45.0000</td>\n",
       "      <td>0</td>\n",
       "      <td>5</td>\n",
       "    </tr>\n",
       "    <tr>\n",
       "      <th>1555</th>\n",
       "      <td>t718</td>\n",
       "      <td>Placebo</td>\n",
       "      <td>Female</td>\n",
       "      <td>10.0</td>\n",
       "      <td>30.0</td>\n",
       "      <td>15</td>\n",
       "      <td>48.0851</td>\n",
       "      <td>1</td>\n",
       "      <td>45</td>\n",
       "    </tr>\n",
       "    <tr>\n",
       "      <th>1708</th>\n",
       "      <td>w540</td>\n",
       "      <td>Stelasyn</td>\n",
       "      <td>Female</td>\n",
       "      <td>8.0</td>\n",
       "      <td>26.0</td>\n",
       "      <td>20</td>\n",
       "      <td>50.6727</td>\n",
       "      <td>2</td>\n",
       "      <td>25</td>\n",
       "    </tr>\n",
       "    <tr>\n",
       "      <th>902</th>\n",
       "      <td>g570</td>\n",
       "      <td>Propriva</td>\n",
       "      <td>Male</td>\n",
       "      <td>16.0</td>\n",
       "      <td>29.0</td>\n",
       "      <td>40</td>\n",
       "      <td>68.5259</td>\n",
       "      <td>2</td>\n",
       "      <td>45</td>\n",
       "    </tr>\n",
       "    <tr>\n",
       "      <th>79</th>\n",
       "      <td>z578</td>\n",
       "      <td>Ramicane</td>\n",
       "      <td>Male</td>\n",
       "      <td>11.0</td>\n",
       "      <td>16.0</td>\n",
       "      <td>20</td>\n",
       "      <td>36.8900</td>\n",
       "      <td>0</td>\n",
       "      <td>45</td>\n",
       "    </tr>\n",
       "    <tr>\n",
       "      <th>1882</th>\n",
       "      <td>z795</td>\n",
       "      <td>Naftisol</td>\n",
       "      <td>Female</td>\n",
       "      <td>13.0</td>\n",
       "      <td>29.0</td>\n",
       "      <td>45</td>\n",
       "      <td>65.7411</td>\n",
       "      <td>3</td>\n",
       "      <td>45</td>\n",
       "    </tr>\n",
       "    <tr>\n",
       "      <th>1781</th>\n",
       "      <td>x773</td>\n",
       "      <td>Placebo</td>\n",
       "      <td>Female</td>\n",
       "      <td>21.0</td>\n",
       "      <td>30.0</td>\n",
       "      <td>15</td>\n",
       "      <td>47.6712</td>\n",
       "      <td>3</td>\n",
       "      <td>45</td>\n",
       "    </tr>\n",
       "    <tr>\n",
       "      <th>0</th>\n",
       "      <td>k403</td>\n",
       "      <td>Ramicane</td>\n",
       "      <td>Male</td>\n",
       "      <td>21.0</td>\n",
       "      <td>16.0</td>\n",
       "      <td>0</td>\n",
       "      <td>45.0000</td>\n",
       "      <td>0</td>\n",
       "      <td>45</td>\n",
       "    </tr>\n",
       "    <tr>\n",
       "      <th>450</th>\n",
       "      <td>y449</td>\n",
       "      <td>Ramicane</td>\n",
       "      <td>Male</td>\n",
       "      <td>19.0</td>\n",
       "      <td>24.0</td>\n",
       "      <td>0</td>\n",
       "      <td>45.0000</td>\n",
       "      <td>0</td>\n",
       "      <td>15</td>\n",
       "    </tr>\n",
       "    <tr>\n",
       "      <th>1661</th>\n",
       "      <td>w151</td>\n",
       "      <td>Ceftamin</td>\n",
       "      <td>Male</td>\n",
       "      <td>24.0</td>\n",
       "      <td>25.0</td>\n",
       "      <td>0</td>\n",
       "      <td>45.0000</td>\n",
       "      <td>0</td>\n",
       "      <td>45</td>\n",
       "    </tr>\n",
       "    <tr>\n",
       "      <th>1564</th>\n",
       "      <td>t724</td>\n",
       "      <td>Naftisol</td>\n",
       "      <td>Female</td>\n",
       "      <td>2.0</td>\n",
       "      <td>25.0</td>\n",
       "      <td>10</td>\n",
       "      <td>50.7039</td>\n",
       "      <td>0</td>\n",
       "      <td>45</td>\n",
       "    </tr>\n",
       "  </tbody>\n",
       "</table>\n",
       "</div>"
      ],
      "text/plain": [
       "     Mouse_ID Drug_Regimen     Sex  Age_months  Weight_(g)  Timepoint  \\\n",
       "1205     m756    Infubinol    Male        19.0        30.0          5   \n",
       "1095     k894    Zoniferol  Female        13.0        29.0         40   \n",
       "156      t565    Capomulin  Female        20.0        17.0          5   \n",
       "661      c302    Zoniferol  Female        10.0        29.0         15   \n",
       "1217     n630     Propriva  Female        15.0        29.0          0   \n",
       "1555     t718      Placebo  Female        10.0        30.0         15   \n",
       "1708     w540     Stelasyn  Female         8.0        26.0         20   \n",
       "902      g570     Propriva    Male        16.0        29.0         40   \n",
       "79       z578     Ramicane    Male        11.0        16.0         20   \n",
       "1882     z795     Naftisol  Female        13.0        29.0         45   \n",
       "1781     x773      Placebo  Female        21.0        30.0         15   \n",
       "0        k403     Ramicane    Male        21.0        16.0          0   \n",
       "450      y449     Ramicane    Male        19.0        24.0          0   \n",
       "1661     w151     Ceftamin    Male        24.0        25.0          0   \n",
       "1564     t724     Naftisol  Female         2.0        25.0         10   \n",
       "\n",
       "      Tumor_Volume_(mm3)  Metastatic_Sites  Max_TP  \n",
       "1205             47.0104                 1       5  \n",
       "1095             58.6471                 4      45  \n",
       "156              45.8956                 0      45  \n",
       "661              52.7166                 2      45  \n",
       "1217             45.0000                 0       5  \n",
       "1555             48.0851                 1      45  \n",
       "1708             50.6727                 2      25  \n",
       "902              68.5259                 2      45  \n",
       "79               36.8900                 0      45  \n",
       "1882             65.7411                 3      45  \n",
       "1781             47.6712                 3      45  \n",
       "0                45.0000                 0      45  \n",
       "450              45.0000                 0      15  \n",
       "1661             45.0000                 0      45  \n",
       "1564             50.7039                 0      45  "
      ]
     },
     "execution_count": 18,
     "metadata": {},
     "output_type": "execute_result"
    }
   ],
   "source": [
    "# Calculate the final tumor volume of each mouse across four of the treatment regimens:  \n",
    "# Capomulin, Ramicane, Infubinol, and Ceftamin\n",
    "\n",
    "# Start by getting the last (greatest) timepoint for each mouse\n",
    "\n",
    "max_df = pd.DataFrame(cleanest_df.groupby('Mouse_ID')['Timepoint'].max().sort_values()).reset_index().rename(columns={'Timepoint': 'Max_TP'})\n",
    "max_df\n",
    "# Merge this group df with the original dataframe to get the tumor volume at the last timepoint\n",
    "new_df = pd.merge(cleanest_df, max_df, on='Mouse_ID')\n",
    "new_df.sample(15)"
   ]
  },
  {
   "cell_type": "code",
   "execution_count": 19,
   "metadata": {},
   "outputs": [
    {
     "name": "stdout",
     "output_type": "stream",
     "text": [
      "IQR for Capomulin: 7.781799999999997\n",
      "Lower Bound for Capomulin: 20.704700000000006\n",
      "Upper Bound for Capomulin: 51.83189999999999\n",
      "Values below 20.704700000000006 could be outliers.\n",
      "Values above 51.83189999999999 could be outliers.\n",
      "IQR for Ramicane: 9.098499999999998\n",
      "Lower Bound for Ramicane: 17.912750000000003\n",
      "Upper Bound for Ramicane: 54.306749999999994\n",
      "Values below 17.912750000000003 could be outliers.\n",
      "Values above 54.306749999999994 could be outliers.\n",
      "IQR for Infubinol: 11.4771\n",
      "Lower Bound for Infubinol: 36.83295\n",
      "Upper Bound for Infubinol: 82.74135\n",
      "Values below 36.83295 could be outliers.\n",
      "Values above 82.74135 could be outliers.\n",
      "IQR for Ceftamin: 15.577700000000007\n",
      "Lower Bound for Ceftamin: 25.355549999999987\n",
      "Upper Bound for Ceftamin: 87.66635000000002\n",
      "Values below 25.355549999999987 could be outliers.\n",
      "Values above 87.66635000000002 could be outliers.\n"
     ]
    }
   ],
   "source": [
    "# Put treatments into a list for for loop (and later for plot labels)\n",
    "treatments = ['Capomulin', 'Ramicane', 'Infubinol', 'Ceftamin']\n",
    "\n",
    "# Create empty list to fill with tumor vol data (for plotting)\n",
    "tumor_vol_data = []\n",
    "\n",
    "# Calculate the IQR and quantitatively determine if there are any potential outliers. \n",
    "    \n",
    "    # Locate the rows which contain mice on each drug and get the tumor volumes\n",
    "for treatment in treatments:\n",
    "    \n",
    "    list_df = new_df.loc[new_df['Drug_Regimen'] == treatment]\n",
    "    final_volume_df = list_df.loc[list_df['Timepoint'] == list_df['Max_TP']]\n",
    "    \n",
    "    # add subset \n",
    "    values = final_volume_df['Tumor_Volume_(mm3)']\n",
    "    tumor_vol_data.append(values)\n",
    "\n",
    "    # Determine outliers using upper and lower bounds\n",
    "    quartiles = values.quantile([.25,.5,.75])\n",
    "    lowerq = quartiles[0.25]\n",
    "    upperq = quartiles[0.75]\n",
    "    iqr = upperq-lowerq\n",
    "    print(f'IQR for {treatment}: {iqr}')\n",
    "\n",
    "    lower_bound = lowerq - (1.5*iqr)\n",
    "    upper_bound = upperq + (1.5*iqr)\n",
    "    print(f'Lower Bound for {treatment}: {lower_bound}')\n",
    "    print(f'Upper Bound for {treatment}: {upper_bound}')\n",
    "    \n",
    "    \n",
    "    print(f\"Values below {lower_bound} could be outliers.\")\n",
    "    print(f\"Values above {upper_bound} could be outliers.\")"
   ]
  },
  {
   "cell_type": "code",
   "execution_count": 20,
   "metadata": {},
   "outputs": [
    {
     "data": {
      "image/png": "[encoded data removed]",
      "text/plain": [
       "<Figure size 432x288 with 1 Axes>"
      ]
     },
     "metadata": {
      "needs_background": "light"
     },
     "output_type": "display_data"
    }
   ],
   "source": [
    "#Generate a box plot of the final tumor volume of each mouse across four regimens of interest\n",
    "\n",
    "plt.boxplot(tumor_vol_data)\n",
    "plt.xticks([1, 2, 3, 4], treatments)\n",
    "plt.title('Final Tumor Volume')\n",
    "plt.ylabel('Tumor Volume (mm3)')\n",
    "plt.ylim([0, 80])\n",
    "plt.show()"
   ]
  },
  {
   "cell_type": "markdown",
   "metadata": {},
   "source": [
    "## Line and Scatter Plots"
   ]
  },
  {
   "cell_type": "code",
   "execution_count": 21,
   "metadata": {},
   "outputs": [
    {
     "data": {
      "image/png": "[encoded data removed]",
      "text/plain": [
       "<Figure size 432x288 with 1 Axes>"
      ]
     },
     "metadata": {
      "needs_background": "light"
     },
     "output_type": "display_data"
    }
   ],
   "source": [
    "# Generate a line plot of tumor volume vs. time point for a mouse treated with Capomulin\n",
    "treatment = cleanest_df.loc[cleanest_df['Mouse_ID'] == 'i738']\n",
    "\n",
    "plt.plot(treatment['Timepoint'],treatment['Tumor_Volume_(mm3)'],marker = '^')\n",
    "plt.title('Capomulin Treatment of Mouse i738')\n",
    "plt.xlabel(\"Timepoint\")\n",
    "plt.ylabel(\"Tumor Volume (mm3)\")\n",
    "plt.xlim(0,50)\n",
    "plt.xlim(0,50)\n",
    "plt.show()"
   ]
  },
  {
   "cell_type": "code",
   "execution_count": 22,
   "metadata": {},
   "outputs": [
    {
     "data": {
      "image/png": "[encoded data removed]",
      "text/plain": [
       "<Figure size 432x288 with 1 Axes>"
      ]
     },
     "metadata": {
      "needs_background": "light"
     },
     "output_type": "display_data"
    }
   ],
   "source": [
    "# Generate a scatter plot of average tumor volume vs. mouse weight for the Capomulin regimen\n",
    "cap_df = cleanest_df.loc[cleanest_df['Drug_Regimen'] == 'Capomulin']\n",
    "\n",
    "avg_df = pd.DataFrame(cap_df.groupby('Mouse_ID')['Tumor_Volume_(mm3)'].mean().sort_values()).reset_index().rename(columns={'Tumor_Volume_(mm3)': 'Avg_Tumor_Vol'})\n",
    "\n",
    "avg_df = pd.merge(cap_df, avg_df, on='Mouse_ID')\n",
    "final_vol_df = avg_df[['Weight_(g)', 'Avg_Tumor_Vol']].drop_duplicates()\n",
    "final_vol_df\n",
    "\n",
    "plt.scatter(final_vol_df['Weight_(g)'],final_vol_df['Avg_Tumor_Vol'])\n",
    "plt.title('Average Tumor Volume by Weight')\n",
    "plt.ylabel(\"Average Tumor Volume\")\n",
    "plt.xlabel(\"Mouse Weight\")\n",
    "plt.show()"
   ]
  },
  {
   "cell_type": "markdown",
   "metadata": {},
   "source": [
    "## Correlation and Regression"
   ]
  },
  {
   "cell_type": "code",
   "execution_count": 23,
   "metadata": {},
   "outputs": [
    {
     "data": {
      "image/png": "[encoded data removed]",
      "text/plain": [
       "<Figure size 432x288 with 1 Axes>"
      ]
     },
     "metadata": {
      "needs_background": "light"
     },
     "output_type": "display_data"
    }
   ],
   "source": [
    "# Calculate the correlation coefficient and linear regression model \n",
    "# for mouse weight and average tumor volume for the Capomulin regimen\n",
    "cap_df = cleanest_df.loc[cleanest_df['Drug_Regimen'] == 'Capomulin']\n",
    "\n",
    "avg_df = pd.DataFrame(cap_df.groupby('Mouse_ID')['Tumor_Volume_(mm3)'].mean().sort_values()).reset_index().rename(columns={'Tumor_Volume_(mm3)': 'Avg_Tumor_Vol'})\n",
    "\n",
    "avg_df = pd.merge(cap_df, avg_df, on='Mouse_ID')\n",
    "final_vol_df = avg_df[['Weight_(g)', 'Avg_Tumor_Vol']].drop_duplicates()\n",
    "final_vol_df\n",
    "avg_vol = final_vol_df['Avg_Tumor_Vol']\n",
    "weight = final_vol_df['Weight_(g)']\n",
    "\n",
    "\n",
    "(slope, intercept, rvalue, pvalue, stderr) = st.linregress(weight, avg_vol)\n",
    "tv_fit = slope * weight + intercept\n",
    "line_eq = \"y = \" + str(round(slope,2)) + \"x + \" + str(round(intercept,2))\n",
    "\n",
    "\n",
    "plt.scatter(weight,avg_vol)\n",
    "plt.plot(weight,tv_fit,\"r-\")\n",
    "plt.title('Average Tumor Volume by Weight')\n",
    "plt.ylabel(\"Average Tumor Volume\")\n",
    "plt.xlabel(\"Mouse Weight\")\n",
    "plt.annotate(line_eq,(16,41),fontsize=12,color=\"red\")\n",
    "\n",
    "\n",
    "plt.show()\n"
   ]
  },
  {
   "cell_type": "code",
   "execution_count": 24,
   "metadata": {},
   "outputs": [
    {
     "name": "stdout",
     "output_type": "stream",
     "text": [
      "The correlation coefficient between average tumor volume and mouse weight is 0.84\n"
     ]
    }
   ],
   "source": [
    "print(f\"The correlation coefficient between average tumor volume and mouse weight is {round(st.pearsonr(final_vol_df['Weight_(g)'],avg_vol)[0],2)}\")"
   ]
  },
  {
   "cell_type": "code",
   "execution_count": null,
   "metadata": {},
   "outputs": [],
   "source": []
  }
 ],
 "metadata": {
  "anaconda-cloud": {},
  "kernelspec": {
   "display_name": "Python 3",
   "language": "python",
   "name": "python3"
  },
  "language_info": {
   "codemirror_mode": {
    "name": "ipython",
    "version": 3
   },
   "file_extension": ".py",
   "mimetype": "text/x-python",
   "name": "python",
   "nbconvert_exporter": "python",
   "pygments_lexer": "ipython3",
   "version": "3.8.3"
  }
 },
 "nbformat": 4,
 "nbformat_minor": 4
}
